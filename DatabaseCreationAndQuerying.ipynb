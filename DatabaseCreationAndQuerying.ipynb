{
 "cells": [
  {
   "cell_type": "markdown",
   "id": "5baa3a53-8e18-4e00-9296-9348b0d74fba",
   "metadata": {},
   "source": [
    "## **Reminder:** \n",
    "\n",
    "### For each notebook, you should submit your notebook with all the cells executed, from start to finish, in a fresh run (i.e., first cell number should be [1], second [2], etc.). You can achieve this by selecting Kernel -> Restart and run all. At the end of the run, your notebook should have populated a database in the university server which you will have created exclusively for this coursework.\n",
    "\n",
    "### **Any deviation from the submission instructions above will result in a mark of zero for the assessment or question part.**\n",
    "\n",
    "# Part 1: NOTEBOOK: DATABASE CREATION AND QUERYING [35 marks]"
   ]
  },
  {
   "cell_type": "code",
   "execution_count": 1,
   "id": "f555996b-8565-4971-bd6e-5d56f0baf398",
   "metadata": {},
   "outputs": [],
   "source": [
    "import pymysql"
   ]
  },
  {
   "cell_type": "code",
   "execution_count": 2,
   "id": "4e554267-3b7a-4b42-bfca-dd2a2fe2127a",
   "metadata": {},
   "outputs": [],
   "source": [
    "connection = pymysql.connect(\n",
    "    host='csmysql.cs.cf.ac.uk',\n",
    "    user='c23098022',\n",
    "    password='Arfah300800',\n",
    "    database='c23098022_Assessment_Database',\n",
    "    charset='utf8mb4')"
   ]
  },
  {
   "cell_type": "code",
   "execution_count": 3,
   "id": "e2a208e0-e5c7-46f7-b0c8-d92d544b66df",
   "metadata": {},
   "outputs": [
    {
     "name": "stdout",
     "output_type": "stream",
     "text": [
      "(('Comments',), ('Posts',), ('Users',))\n"
     ]
    }
   ],
   "source": [
    "with connection.cursor() as cursor:\n",
    "    sql = \"SHOW TABLES;\"\n",
    "    cursor.execute(sql)\n",
    "    result = cursor.fetchall()\n",
    "    \n",
    "print(result)"
   ]
  },
  {
   "cell_type": "markdown",
   "id": "33bec175-f8ab-4efe-8fe2-f9f9bd724930",
   "metadata": {},
   "source": [
    "## PART A: DATA MODELING [15 marks]\n",
    "\n",
    "1) Python logic for reading in the data and handling missing values. Use of Pandas is recommended. Note: you can reuse code from Part 2 questions 1 and 3 for this question. [1 mark]"
   ]
  },
  {
   "cell_type": "code",
   "execution_count": 4,
   "id": "11a88010-cd93-4db9-b4e7-afea72111bcc",
   "metadata": {},
   "outputs": [],
   "source": [
    "# your code here\n",
    "import pandas as pd"
   ]
  },
  {
   "cell_type": "code",
   "execution_count": 5,
   "id": "a2384869-d29b-4728-a7fd-90028e22e717",
   "metadata": {
    "scrolled": true
   },
   "outputs": [
    {
     "name": "stdout",
     "output_type": "stream",
     "text": [
      "             author                                       comment_body   \n",
      "0            arne-b  Campenaerts actually prepared pretty hard for ...  \\\n",
      "1  Noble_Flatulence  The bikewrench subreddit be like \"frame slight...   \n",
      "2             tkcom  That fan should be fined based on the damage c...   \n",
      "3            Cog348  Chris Froome getting cheered by a French crowd...   \n",
      "4    Sead_KolaSagan  Thomas escaped the crash that took down everyb...   \n",
      "\n",
      "   comment_score  comment_award comment_mod_distinction  comment_created   \n",
      "0            106              0                     NaN     1.624704e+09  \\\n",
      "1             78              0                     NaN     1.624717e+09   \n",
      "2             79              0                     NaN     1.624717e+09   \n",
      "3             77              0                     NaN     1.624721e+09   \n",
      "4             67              0                     NaN     1.624717e+09   \n",
      "\n",
      "   author_comment_karma  author_post_karma  author_created subreddit   \n",
      "0                 54881              11172    1.390754e+09   peloton  \\\n",
      "1                181898               4853    1.357789e+09   peloton   \n",
      "2                 84779               3709    1.288982e+09   peloton   \n",
      "3                 93846               1990    1.547502e+09   peloton   \n",
      "4                 32150                 88    1.506169e+09   peloton   \n",
      "\n",
      "                                          post_title  post_score   \n",
      "0  [Race Thread] 2021 Tour de France - Stage 1 (2...         159  \\\n",
      "1  [Race Thread] 2021 Tour de France - Stage 1 (2...         159   \n",
      "2  [Race Thread] 2021 Tour de France - Stage 1 (2...         159   \n",
      "3  [Race Thread] 2021 Tour de France - Stage 1 (2...         159   \n",
      "4  [Race Thread] 2021 Tour de France - Stage 1 (2...         159   \n",
      "\n",
      "   post_num_comments                                          post_body   \n",
      "0               2313  | Date | Stage | From > To | Length | Type | F...  \\\n",
      "1               2313  | Date | Stage | From > To | Length | Type | F...   \n",
      "2               2313  | Date | Stage | From > To | Length | Type | F...   \n",
      "3               2313  | Date | Stage | From > To | Length | Type | F...   \n",
      "4               2313  | Date | Stage | From > To | Length | Type | F...   \n",
      "\n",
      "   post_created  post_award  \n",
      "0  1.624694e+09           0  \n",
      "1  1.624694e+09           0  \n",
      "2  1.624694e+09           0  \n",
      "3  1.624694e+09           0  \n",
      "4  1.624694e+09           0  \n"
     ]
    }
   ],
   "source": [
    "# Reading the CSV file into a pandas DataFrame\n",
    "df = pd.read_csv(\"data_portfolio_24.csv\",encoding='utf-8')\n",
    "# Printing the first few rows of the DataFrame to inspect the data\n",
    "print(df.head())"
   ]
  },
  {
   "cell_type": "code",
   "execution_count": 6,
   "id": "61b8a3f0-e54d-4d45-a061-190ddd13d0cb",
   "metadata": {},
   "outputs": [
    {
     "name": "stdout",
     "output_type": "stream",
     "text": [
      "<class 'pandas.core.frame.DataFrame'>\n",
      "RangeIndex: 11810 entries, 0 to 11809\n",
      "Data columns (total 16 columns):\n",
      " #   Column                   Non-Null Count  Dtype  \n",
      "---  ------                   --------------  -----  \n",
      " 0   author                   11036 non-null  object \n",
      " 1   comment_body             11810 non-null  object \n",
      " 2   comment_score            11810 non-null  int64  \n",
      " 3   comment_award            11810 non-null  int64  \n",
      " 4   comment_mod_distinction  5 non-null      object \n",
      " 5   comment_created          11810 non-null  float64\n",
      " 6   author_comment_karma     11810 non-null  int64  \n",
      " 7   author_post_karma        11810 non-null  int64  \n",
      " 8   author_created           10878 non-null  float64\n",
      " 9   subreddit                11810 non-null  object \n",
      " 10  post_title               11810 non-null  object \n",
      " 11  post_score               11810 non-null  int64  \n",
      " 12  post_num_comments        11810 non-null  int64  \n",
      " 13  post_body                11810 non-null  object \n",
      " 14  post_created             11810 non-null  float64\n",
      " 15  post_award               11810 non-null  int64  \n",
      "dtypes: float64(3), int64(7), object(6)\n",
      "memory usage: 1.4+ MB\n"
     ]
    }
   ],
   "source": [
    "# Displaying summary about the DataFrame\n",
    "df.info()"
   ]
  },
  {
   "cell_type": "code",
   "execution_count": 7,
   "id": "da2cbad0-6d41-496f-9ae9-3f35f32717df",
   "metadata": {},
   "outputs": [
    {
     "data": {
      "text/plain": [
       "author                       774\n",
       "comment_body                   0\n",
       "comment_score                  0\n",
       "comment_award                  0\n",
       "comment_mod_distinction    11805\n",
       "comment_created                0\n",
       "author_comment_karma           0\n",
       "author_post_karma              0\n",
       "author_created               932\n",
       "subreddit                      0\n",
       "post_title                     0\n",
       "post_score                     0\n",
       "post_num_comments              0\n",
       "post_body                      0\n",
       "post_created                   0\n",
       "post_award                     0\n",
       "dtype: int64"
      ]
     },
     "execution_count": 7,
     "metadata": {},
     "output_type": "execute_result"
    }
   ],
   "source": [
    "# Checking for missing values in the DataFrame and summing them up column-wise\n",
    "df.isnull().sum()"
   ]
  },
  {
   "cell_type": "code",
   "execution_count": 8,
   "id": "d7303c47-3538-428e-9af7-8b3a3efd7053",
   "metadata": {},
   "outputs": [],
   "source": [
    "# Filling missing values in the author column with anonymous\n",
    "df[\"author\"] = df['author'].fillna(\"anonymous\")\n",
    "\n",
    "# Filling missing values in the comment_mod_distinction column with \"-\"\n",
    "df[\"comment_mod_distinction\"] = df['comment_mod_distinction'].fillna(\"-\")\n",
    "\n",
    "# Filling missing values in the author_created column with 0\n",
    "df[\"author_created\"] = df['author_created'].fillna(0)\n",
    "\n",
    "# Converting the post_body column to string type\n",
    "df[\"post_body\"] = df[\"post_body\"].astype(str)\n",
    "\n",
    "# Converting timestamps columns to datetime format\n",
    "df['author_created'] = pd.to_datetime(df['author_created'], unit='s')\n",
    "df['comment_created'] = pd.to_datetime(df['comment_created'], unit='s')\n",
    "df['post_created'] = pd.to_datetime(df['post_created'], unit='s')"
   ]
  },
  {
   "cell_type": "code",
   "execution_count": 9,
   "id": "22312a4d-4d3d-4846-b466-f9363e5533be",
   "metadata": {},
   "outputs": [
    {
     "data": {
      "text/plain": [
       "author                     0\n",
       "comment_body               0\n",
       "comment_score              0\n",
       "comment_award              0\n",
       "comment_mod_distinction    0\n",
       "comment_created            0\n",
       "author_comment_karma       0\n",
       "author_post_karma          0\n",
       "author_created             0\n",
       "subreddit                  0\n",
       "post_title                 0\n",
       "post_score                 0\n",
       "post_num_comments          0\n",
       "post_body                  0\n",
       "post_created               0\n",
       "post_award                 0\n",
       "dtype: int64"
      ]
     },
     "execution_count": 9,
     "metadata": {},
     "output_type": "execute_result"
    }
   ],
   "source": [
    "# Calculating the number of missing values in each column of the DataFrame\n",
    "df.isnull().sum()"
   ]
  },
  {
   "cell_type": "code",
   "execution_count": 10,
   "id": "057b7619-60a9-4bd5-9c08-9238e26ed6e6",
   "metadata": {},
   "outputs": [
    {
     "data": {
      "text/plain": [
       "author                     1158\n",
       "comment_body               7831\n",
       "comment_score               100\n",
       "comment_award                 1\n",
       "comment_mod_distinction       2\n",
       "comment_created            7806\n",
       "author_comment_karma       2191\n",
       "author_post_karma           908\n",
       "author_created             1132\n",
       "subreddit                     1\n",
       "post_title                   21\n",
       "post_score                   33\n",
       "post_num_comments            19\n",
       "post_body                    21\n",
       "post_created                 21\n",
       "post_award                    1\n",
       "dtype: int64"
      ]
     },
     "execution_count": 10,
     "metadata": {},
     "output_type": "execute_result"
    }
   ],
   "source": [
    "# Counting the number of unique values in each column\n",
    "df.nunique()"
   ]
  },
  {
   "cell_type": "markdown",
   "id": "4fb5cee9-711e-4923-a6de-2c9015f38a8e",
   "metadata": {},
   "source": [
    "2) SQL code for creating tables. [5 marks]"
   ]
  },
  {
   "cell_type": "code",
   "execution_count": 11,
   "id": "5d29db8d-5335-44fb-ae3c-262747df6bef",
   "metadata": {},
   "outputs": [],
   "source": [
    "# DROP TABLE IF EXISTS Users;\n",
    "# DROP TABLE IF EXISTS Posts;\n",
    "# DROP TABLE IF EXISTS Comments;\n",
    "\n",
    "# CREATE TABLE Users (\n",
    "#     id INT AUTO_INCREMENT PRIMARY KEY,\n",
    "#     username VARCHAR(1000) UNIQUE NOT NULL,\n",
    "#     comment_karma INT NOT NULL,\n",
    "#     post_karma INT NOT NULL,\n",
    "#     account_created DATETIME,\n",
    "#     UNIQUE(username)\n",
    "# );\n",
    "\n",
    "# CREATE TABLE Posts (\n",
    "#     id INT AUTO_INCREMENT PRIMARY KEY,\n",
    "#     title TEXT NOT NULL,\n",
    "#     body TEXT NOT NULL,\n",
    "#     score INT NOT NULL,\n",
    "#     num_comments INT NOT NULL,\n",
    "#     created DATETIME NOT NULL,\n",
    "#     award_count INT NOT NULL,\n",
    "#     subreddit VARCHAR(255) NOT NULL,\n",
    "#     author_id INT,\n",
    "#     FOREIGN KEY (author_id) REFERENCES Users(id)\n",
    "# );\n",
    "\n",
    "# CREATE TABLE Comments (\n",
    "#     id INT AUTO_INCREMENT PRIMARY KEY,\n",
    "#     body TEXT NOT NULL,\n",
    "#     score INT NOT NULL,\n",
    "#     award_count INT NOT NULL,\n",
    "#     mod_distinction VARCHAR(255) NOT NULL DEFAULT 'none',\n",
    "#     created DATETIME NOT NULL,\n",
    "#     post_id INT,\n",
    "#     author_id INT,\n",
    "#     FOREIGN KEY (post_id) REFERENCES Posts(id),\n",
    "#     FOREIGN KEY (author_id) REFERENCES Users(id)\n",
    "# );\n"
   ]
  },
  {
   "cell_type": "markdown",
   "id": "2062cf10-514f-47c4-8d31-e32c21c1aaf1",
   "metadata": {},
   "source": [
    "3) SQL code for populating tables. [5 marks]"
   ]
  },
  {
   "cell_type": "code",
   "execution_count": 12,
   "id": "155d7af7-6547-4358-b40b-0cd5c1c3d2bf",
   "metadata": {},
   "outputs": [],
   "source": [
    "user_df = df.drop_duplicates(subset=['author'], keep='first')"
   ]
  },
  {
   "cell_type": "code",
   "execution_count": 13,
   "id": "2f9da4f0-9a4e-46e6-8bc6-02a7c760cd8d",
   "metadata": {},
   "outputs": [],
   "source": [
    "# your code here\n",
    "# Creating a cursor object to execute SQL queries\n",
    "cursor = connection.cursor()\n",
    "# Iterating over rows in the DataFrame\n",
    "for _, row in user_df.iterrows():\n",
    "    # Extracting values from the current row\n",
    "    lis=[row[\"author\"],row[\"author_comment_karma\"],row[\"author_post_karma\"],row[\"author_created\"]]\n",
    "    # SQL query to insert values into the Users table\n",
    "    sql = f\"INSERT INTO Users (username, comment_karma, post_karma, account_created) VALUES (%s, %s, %s, %s)\"\n",
    "    # Executing the SQL query with the extracted values\n",
    "    cursor.execute(sql, tuple(lis))\n",
    "\n",
    "# Commit changes to save data\n",
    "connection.commit()"
   ]
  },
  {
   "cell_type": "code",
   "execution_count": 14,
   "id": "1791e26b-e59a-4b9f-a471-4e0a3f5c8041",
   "metadata": {},
   "outputs": [
    {
     "data": {
      "text/plain": [
       "3"
      ]
     },
     "execution_count": 14,
     "metadata": {},
     "output_type": "execute_result"
    }
   ],
   "source": [
    "sql=f\"SELECT id,username FROM Users where username=%s\"\n",
    "user_name = \"tkcom\"\n",
    "# Executing the SQL query with the specified username\n",
    "cursor.execute(sql,user_name)\n",
    "# Fetching all the results returned by the query\n",
    "result_set = cursor.fetchall()\n",
    "# Extracting the id from the first result in the result set\n",
    "result_set[0][0]"
   ]
  },
  {
   "cell_type": "code",
   "execution_count": 15,
   "id": "aaed3451-d258-4d60-8ab6-882975be25e6",
   "metadata": {},
   "outputs": [],
   "source": [
    "# your code here\n",
    "cursor = connection.cursor()\n",
    "for _, row in df.iterrows():\n",
    "    sql=f\"SELECT id,username FROM Users where username=%s\"\n",
    "    user_name = row['author']\n",
    "    cursor.execute(sql,user_name)\n",
    "    # Fetching all the results returned by the query\n",
    "    result_set = cursor.fetchall()\n",
    "    id = result_set[0][0]\n",
    "    # Creating a list containing values from the current row and the extracted user_id\n",
    "    lis=[row[\"post_title\"],row[\"post_body\"],row[\"post_score\"],row[\"post_num_comments\"],row[\"post_created\"],row[\"post_award\"],row[\"subreddit\"],id]\n",
    "    sql = f\"INSERT INTO Posts (title, body, score, num_comments,created,award_count, subreddit, author_id) VALUES (%s, %s, %s, %s,%s, %s, %s, %s)\"\n",
    "    # Executing the SQL query with the list of values\n",
    "    cursor.execute(sql, tuple(lis))\n",
    "\n",
    "# Commit changes to save data\n",
    "connection.commit()"
   ]
  },
  {
   "cell_type": "code",
   "execution_count": 16,
   "id": "cda678f5-2042-4c62-9e55-a5f3eef6e1fe",
   "metadata": {},
   "outputs": [],
   "source": [
    "# Query to change the collation of all columns into utf-8.\n",
    "# Creating a cursor to execute the sql queries.\n",
    "cursor = connection.cursor()\n",
    " \n",
    "# Altering the tables to convert the characters to be utf-8.\n",
    "cursor.execute(\"\"\"\n",
    "ALTER TABLE Users CONVERT TO CHARACTER SET utf8mb4\n",
    "    COLLATE utf8mb4_unicode_ci;\n",
    "               \"\"\")\n",
    " \n",
    "cursor.execute(\"\"\"\n",
    "ALTER TABLE Posts CONVERT TO CHARACTER SET utf8mb4\n",
    "    COLLATE utf8mb4_unicode_ci;\n",
    "               \"\"\")\n",
    " \n",
    "cursor.execute(\"\"\"\n",
    "ALTER TABLE Comments CONVERT TO CHARACTER SET utf8mb4\n",
    "    COLLATE utf8mb4_unicode_ci;\n",
    "               \"\"\")\n",
    " \n",
    "# Commiting the queries.\n",
    "connection.commit()"
   ]
  },
  {
   "cell_type": "code",
   "execution_count": 17,
   "id": "307ab2ba-13ee-43b4-8557-9fe6a3f30e14",
   "metadata": {},
   "outputs": [],
   "source": [
    "# your code here\n",
    "cursor = connection.cursor()\n",
    "for _, row in df.iterrows():\n",
    "    sql=f\"SELECT id,username FROM Users where username=%s\"\n",
    "    user_name = row['author']\n",
    "    cursor.execute(sql,user_name)\n",
    "    result_set = cursor.fetchall()\n",
    "    user_id = result_set[0][0]\n",
    "    lis=[row[\"comment_body\"],row[\"comment_score\"],row[\"comment_award\"],row[\"comment_mod_distinction\"],row[\"comment_created\"],_+1,user_id]\n",
    "    try:\n",
    "        sql = f\"INSERT INTO Comments (body, score, award_count, mod_distinction,created, post_id, author_id) VALUES (%s, %s, %s, %s,%s, %s,%s)\"\n",
    "        cursor.execute(sql, tuple(lis))\n",
    "    except pymysql.err.IntegrityError:\n",
    "        # Handling integrity errors if the username doesn't exist\n",
    "        print(\"The username doesn't exist\")\n",
    "\n",
    "# Commit changes to save data\n",
    "connection.commit()"
   ]
  },
  {
   "cell_type": "markdown",
   "id": "9e8dfec2-e466-4c89-a7f8-97fbe68b9306",
   "metadata": {},
   "source": [
    "## \n",
    "\n",
    "\n",
    "\n",
    "\n",
    "\n",
    "\n",
    "\n",
    "\n",
    "\n",
    "\n",
    "\n",
    "\n",
    "\n",
    "\n",
    "PART B: QUERYING [20 marks] \n",
    "\n",
    "1 - Users with highest scores over time [2 marks]\n",
    "\n",
    "Implement a query that returns the users with the highest aggregate scores (over all their\n",
    "comments) for the whole dataset. You should restrict your results to only those whose aggregated score is above 2000 points, in descending order. Your query should return two columns: username and `aggr_scores`.\n"
   ]
  },
  {
   "cell_type": "code",
   "execution_count": 18,
   "id": "58a1f5f9-f251-4eb8-a897-82c01ee6ce5c",
   "metadata": {},
   "outputs": [
    {
     "data": {
      "text/html": [
       "<div>\n",
       "<style scoped>\n",
       "    .dataframe tbody tr th:only-of-type {\n",
       "        vertical-align: middle;\n",
       "    }\n",
       "\n",
       "    .dataframe tbody tr th {\n",
       "        vertical-align: top;\n",
       "    }\n",
       "\n",
       "    .dataframe thead th {\n",
       "        text-align: right;\n",
       "    }\n",
       "</style>\n",
       "<table border=\"1\" class=\"dataframe\">\n",
       "  <thead>\n",
       "    <tr style=\"text-align: right;\">\n",
       "      <th></th>\n",
       "      <th>Username</th>\n",
       "      <th>aggr_scores</th>\n",
       "    </tr>\n",
       "  </thead>\n",
       "  <tbody>\n",
       "    <tr>\n",
       "      <th>0</th>\n",
       "      <td>anonymous</td>\n",
       "      <td>14245</td>\n",
       "    </tr>\n",
       "    <tr>\n",
       "      <th>1</th>\n",
       "      <td>TheRollingJones</td>\n",
       "      <td>6125</td>\n",
       "    </tr>\n",
       "    <tr>\n",
       "      <th>2</th>\n",
       "      <td>Heavy_Mycologist_104</td>\n",
       "      <td>3782</td>\n",
       "    </tr>\n",
       "    <tr>\n",
       "      <th>3</th>\n",
       "      <td>GeniuslyMoronic</td>\n",
       "      <td>3438</td>\n",
       "    </tr>\n",
       "    <tr>\n",
       "      <th>4</th>\n",
       "      <td>HerHor</td>\n",
       "      <td>3152</td>\n",
       "    </tr>\n",
       "    <tr>\n",
       "      <th>5</th>\n",
       "      <td>push_karrr</td>\n",
       "      <td>2792</td>\n",
       "    </tr>\n",
       "    <tr>\n",
       "      <th>6</th>\n",
       "      <td>FasterThanFlourite</td>\n",
       "      <td>2764</td>\n",
       "    </tr>\n",
       "    <tr>\n",
       "      <th>7</th>\n",
       "      <td>CooroSnowFox</td>\n",
       "      <td>2385</td>\n",
       "    </tr>\n",
       "    <tr>\n",
       "      <th>8</th>\n",
       "      <td>weeee_splat</td>\n",
       "      <td>2368</td>\n",
       "    </tr>\n",
       "    <tr>\n",
       "      <th>9</th>\n",
       "      <td>L_Dawg</td>\n",
       "      <td>2240</td>\n",
       "    </tr>\n",
       "    <tr>\n",
       "      <th>10</th>\n",
       "      <td>welk101</td>\n",
       "      <td>2238</td>\n",
       "    </tr>\n",
       "    <tr>\n",
       "      <th>11</th>\n",
       "      <td>ChemicalOle</td>\n",
       "      <td>2069</td>\n",
       "    </tr>\n",
       "    <tr>\n",
       "      <th>12</th>\n",
       "      <td>mah0ne</td>\n",
       "      <td>2031</td>\n",
       "    </tr>\n",
       "  </tbody>\n",
       "</table>\n",
       "</div>"
      ],
      "text/plain": [
       "                Username aggr_scores\n",
       "0              anonymous       14245\n",
       "1        TheRollingJones        6125\n",
       "2   Heavy_Mycologist_104        3782\n",
       "3        GeniuslyMoronic        3438\n",
       "4                 HerHor        3152\n",
       "5             push_karrr        2792\n",
       "6     FasterThanFlourite        2764\n",
       "7           CooroSnowFox        2385\n",
       "8            weeee_splat        2368\n",
       "9                 L_Dawg        2240\n",
       "10               welk101        2238\n",
       "11           ChemicalOle        2069\n",
       "12                mah0ne        2031"
      ]
     },
     "execution_count": 18,
     "metadata": {},
     "output_type": "execute_result"
    }
   ],
   "source": [
    "# your code here\n",
    "cursor = connection.cursor()\n",
    "sql = \"\"\"SELECT \n",
    "    U.username,\n",
    "    SUM(C.score) AS aggr_scores\n",
    "FROM \n",
    "    Users U\n",
    "JOIN \n",
    "    Comments C ON U.id = C.author_id\n",
    "GROUP BY \n",
    "    U.username\n",
    "HAVING \n",
    "    aggr_scores > 2000\n",
    "ORDER BY \n",
    "    aggr_scores DESC;\"\"\"\n",
    "cursor.execute(sql)\n",
    "result_df = cursor.fetchall()\n",
    "# Creating a DataFrame from the fetched results with specified column names\n",
    "df = pd.DataFrame(result_df, columns=['Username', 'aggr_scores'])\n",
    "df"
   ]
  },
  {
   "cell_type": "markdown",
   "id": "b0ef6674-0fd5-48ca-b2c2-3b512fd10e86",
   "metadata": {},
   "source": [
    "2 - First successful comment [2 marks]\n",
    "\n",
    "Implement a query that returns all comments where the comment score and the author’s post karma have a difference of 1.  Your query should return three columns: `user`, `comment_score`, and `author_post_karma`.\n"
   ]
  },
  {
   "cell_type": "code",
   "execution_count": 19,
   "id": "04989851-4d8c-4c43-b5c3-fa62f8cccba6",
   "metadata": {},
   "outputs": [
    {
     "name": "stdout",
     "output_type": "stream",
     "text": [
      "                   User  Comment Score  Author Post Karma\n",
      "0        BreakLonely582             31                 30\n",
      "1        BreakLonely582             29                 30\n",
      "2              ElCalera              2                  1\n",
      "3            Babiboeboo             15                 14\n",
      "4            Babiboeboo             13                 14\n",
      "5            Babiboeboo             13                 14\n",
      "6            Babiboeboo             13                 14\n",
      "7            Babiboeboo             13                 14\n",
      "8            Babiboeboo             13                 14\n",
      "9            Babiboeboo             13                 14\n",
      "10           Babiboeboo             15                 14\n",
      "11           Babiboeboo             13                 14\n",
      "12                F0RTI             13                 14\n",
      "13                F0RTI             13                 14\n",
      "14       SWAN_RONSON_JR              7                  6\n",
      "15       SWAN_RONSON_JR              7                  6\n",
      "16       SWAN_RONSON_JR              5                  6\n",
      "17       SWAN_RONSON_JR              7                  6\n",
      "18       SWAN_RONSON_JR              7                  6\n",
      "19       SWAN_RONSON_JR              7                  6\n",
      "20       SWAN_RONSON_JR              7                  6\n",
      "21       SWAN_RONSON_JR              5                  6\n",
      "22     deschaussures147             11                 12\n",
      "23       BondedByBloeja             37                 38\n",
      "24             peanut88             14                 13\n",
      "25             peanut88             14                 13\n",
      "26            buntysoap              5                  6\n",
      "27                RSGGA              5                  6\n",
      "28                RSGGA              5                  6\n",
      "29       HonestMistake_             18                 19\n",
      "30             Gate-Dry             10                 11\n",
      "31             jbberlin             20                 21\n",
      "32              Medi4no             18                 19\n",
      "33              Medi4no             18                 19\n",
      "34     BoCheckHorseMate             13                 14\n",
      "35     BoCheckHorseMate             15                 14\n",
      "36     BoCheckHorseMate             13                 14\n",
      "37     BoCheckHorseMate             13                 14\n",
      "38             gyosaphi             11                 12\n",
      "39            pierre_86             36                 37\n",
      "40         Xqf_VdW4Rr4V             11                 10\n",
      "41       clairy_roubaix             14                 15\n",
      "42       clairy_roubaix             14                 15\n",
      "43  Domestique_Ecossais              8                  7\n",
      "44        messibusiness             13                 12\n",
      "45        messibusiness             13                 12\n",
      "46       cpc-Nattefrost              8                  9\n",
      "47            Lexus1810             22                 21\n",
      "48        MonsieurSocko             17                 18\n",
      "49        MonsieurSocko             19                 18\n",
      "50        MonsieurSocko             17                 18\n"
     ]
    }
   ],
   "source": [
    "# your code here\n",
    "sql = \"\"\"\n",
    "SELECT\n",
    "    U.username AS user,\n",
    "    C.score AS comment_score,\n",
    "    U.post_karma AS author_post_karma\n",
    "FROM\n",
    "    Comments C\n",
    "JOIN\n",
    "    Users U ON C.author_id = U.id\n",
    "WHERE\n",
    "    ABS(C.score - U.post_karma) = 1;\n",
    "\"\"\"\n",
    "\n",
    "\n",
    "cursor.execute(sql)\n",
    "\n",
    "# Fetch all results from the executed SQL query\n",
    "result = cursor.fetchall()\n",
    "\n",
    "# Create a DataFrame from the fetched results\n",
    "# Ensure to replace 'user', 'comment_score', 'author_post_karma' with your actual column names\n",
    "df = pd.DataFrame(result, columns=['User', 'Comment Score', 'Author Post Karma'])\n",
    "\n",
    "# Display the DataFrame\n",
    "print(df)"
   ]
  },
  {
   "cell_type": "markdown",
   "id": "507b0de5-8dda-41bd-8260-1173db3bcf95",
   "metadata": {},
   "source": [
    "3 - Posts with mod interventions [2 marks]\n",
    "\n",
    "Implement a query that returns the number of posts who have received 1 or more comments with a mod distinction. Your query should return only one value.\n"
   ]
  },
  {
   "cell_type": "code",
   "execution_count": 20,
   "id": "8c79e2a3-94f8-47a0-8c27-12d5d04e4591",
   "metadata": {},
   "outputs": [
    {
     "name": "stdout",
     "output_type": "stream",
     "text": [
      "   Num Posts with Mod Comments\n",
      "0                        11810\n"
     ]
    }
   ],
   "source": [
    "# your code here\n",
    "sql = \"\"\"\n",
    "SELECT \n",
    "    COUNT(DISTINCT post_id) AS num_posts_with_mod_comments\n",
    "FROM \n",
    "    Comments\n",
    "WHERE \n",
    "    mod_distinction != 'none';\n",
    "\"\"\"\n",
    "\n",
    "# Execute the SQL query\n",
    "cursor.execute(sql)\n",
    "\n",
    "# Fetch the result\n",
    "result = cursor.fetchone()  # Using fetchone() since we expect a single row\n",
    "\n",
    "# Create a DataFrame from the fetched result\n",
    "# The column name 'Num Posts with Mod Comments' corresponds to the calculated count\n",
    "df = pd.DataFrame([result], columns=['Num Posts with Mod Comments'])\n",
    "\n",
    "# Display the DataFrame\n",
    "print(df)\n"
   ]
  },
  {
   "cell_type": "markdown",
   "id": "03d366b5-4581-4c74-a517-6ff0fa89176f",
   "metadata": {},
   "source": [
    "4 - Find posts about the Tour de France. [2 marks]\n",
    "\n",
    "Implement a query that retrieves the timestamp and body of all comments where the body contains the word ‘tour de france’ or ‘tdf’ anywhere. The returned table should have two columns: `timestamp` and `body`.\n"
   ]
  },
  {
   "cell_type": "code",
   "execution_count": 21,
   "id": "a911d749-c2de-49e9-b91b-3cb5ef312b50",
   "metadata": {},
   "outputs": [
    {
     "name": "stdout",
     "output_type": "stream",
     "text": [
      "              Timestamp                                               Body\n",
      "0   2021-06-26 15:12:52  This is the most savage first stage of the TdF...\n",
      "1   2021-06-26 14:42:42  Omg, did you all know that MvdP’s grandfather ...\n",
      "2   2021-06-26 15:15:18  That's the wildest first stage of the TdF I ca...\n",
      "3   2021-06-26 11:09:47  You are of course all here to learn while watc...\n",
      "4   2021-06-26 12:50:50  On the Australian coverage they are eating a b...\n",
      "..                  ...                                                ...\n",
      "214 2021-07-18 16:24:37  I hope they continue having Wiggins on the mot...\n",
      "215 2021-07-18 17:13:15  The irony with the most iconic route circulati...\n",
      "216 2021-07-18 15:21:54  It would be lovely if mods add an explanation ...\n",
      "217 2021-07-18 17:04:22  Oh yeah, another standard of TDF coverage is s...\n",
      "218 2021-07-18 16:50:42  WvA changed his name to Eddy Merckx last night...\n",
      "\n",
      "[219 rows x 2 columns]\n"
     ]
    }
   ],
   "source": [
    "# your code here\n",
    "sql = \"\"\"\n",
    "SELECT\n",
    "    created AS timestamp,\n",
    "    body\n",
    "FROM\n",
    "    Comments\n",
    "WHERE\n",
    "    body LIKE '%tour de france%' OR\n",
    "    body LIKE '%tdf%';\n",
    "\"\"\"\n",
    "\n",
    "# Execute the SQL query\n",
    "cursor.execute(sql)\n",
    "\n",
    "# Fetch all results from the executed SQL query\n",
    "results = cursor.fetchall()\n",
    "\n",
    "# Create a DataFrame from the fetched results\n",
    "df = pd.DataFrame(results, columns=['Timestamp', 'Body'])\n",
    "\n",
    "# Display the DataFrame\n",
    "print(df)"
   ]
  },
  {
   "cell_type": "markdown",
   "id": "9eb0728b-2563-4d60-a2a5-486ca0087964",
   "metadata": {},
   "source": [
    "5 - Comments over posts [2 marks]\n",
    "\n",
    "Implement a query that retrieves the comments where the comment score exceeds the score of the post in which they were posted, and the post title is “[Race Thread] 2021 Tour de France - Stage 9 (2.UWT)”. Your returned table should contain 3 columns: `post_title`, `post_score`, `comment_score`, `comment_body`.\n"
   ]
  },
  {
   "cell_type": "code",
   "execution_count": 22,
   "id": "81152831-0ecc-4552-be91-28e698b98948",
   "metadata": {},
   "outputs": [
    {
     "name": "stdout",
     "output_type": "stream",
     "text": [
      "                                          Post Title  Post Score   \n",
      "0  [Race Thread] 2021 Tour de France - Stage 9 (2...          80  \\\n",
      "1  [Race Thread] 2021 Tour de France - Stage 9 (2...          80   \n",
      "2  [Race Thread] 2021 Tour de France - Stage 9 (2...          80   \n",
      "3  [Race Thread] 2021 Tour de France - Stage 9 (2...          78   \n",
      "4  [Race Thread] 2021 Tour de France - Stage 9 (2...          78   \n",
      "5  [Race Thread] 2021 Tour de France - Stage 9 (2...          78   \n",
      "\n",
      "   Comment Score                                       Comment Body  \n",
      "0             89  Our boy roglic is officially not starting, RIP...  \n",
      "1             84  One of my least favourite things about watchin...  \n",
      "2            101  I’ve had this day circled since the route came...  \n",
      "3             85  Our boy roglic is officially not starting, RIP...  \n",
      "4             80  One of my least favourite things about watchin...  \n",
      "5            100  I’ve had this day circled since the route came...  \n"
     ]
    }
   ],
   "source": [
    "# your code here\n",
    "sql = \"\"\"\n",
    "SELECT\n",
    "    P.title AS post_title,\n",
    "    P.score AS post_score,\n",
    "    C.score AS comment_score,\n",
    "    C.body AS comment_body\n",
    "FROM\n",
    "    Comments C\n",
    "JOIN\n",
    "    Posts P ON C.post_id = P.id\n",
    "WHERE\n",
    "    P.title = '[Race Thread] 2021 Tour de France - Stage 9 (2.UWT)'\n",
    "    AND C.score > P.score;\n",
    "\"\"\"\n",
    "\n",
    "# Execute the SQL query\n",
    "cursor.execute(sql)\n",
    "\n",
    "# Fetch all results from the executed SQL query\n",
    "results = cursor.fetchall()\n",
    "\n",
    "# Create a DataFrame from the fetched results\n",
    "df = pd.DataFrame(results, columns=['Post Title', 'Post Score', 'Comment Score', 'Comment Body'])\n",
    "\n",
    "# Display the DataFrame\n",
    "print(df)"
   ]
  },
  {
   "cell_type": "markdown",
   "id": "542e30c5-f293-481e-8ed8-e9f368572904",
   "metadata": {},
   "source": [
    "6 - Users with the highest average upvote ratio [2 marks]\n",
    "\n",
    "Implement a query that shows the top 5 users in terms of the average `comment_scores`. Your query should return two columns: `user` and `avg_score`.\n"
   ]
  },
  {
   "cell_type": "code",
   "execution_count": 23,
   "id": "67b1011d-340d-4c9f-b39b-a984d99de631",
   "metadata": {},
   "outputs": [
    {
     "name": "stdout",
     "output_type": "stream",
     "text": [
      "              User Average Score\n",
      "0    RomanTotale17      176.0000\n",
      "1  Pineapplesmores      100.5000\n",
      "2            tkcom       79.0000\n",
      "3          Gapii99       70.0000\n",
      "4         chef_nic       68.0000\n"
     ]
    }
   ],
   "source": [
    "# your code here\n",
    "sql = \"\"\"\n",
    "SELECT\n",
    "    U.username AS user,\n",
    "    AVG(C.score) AS avg_score\n",
    "FROM\n",
    "    Users U\n",
    "JOIN\n",
    "    Comments C ON U.id = C.author_id\n",
    "GROUP BY\n",
    "    U.username\n",
    "ORDER BY\n",
    "    avg_score DESC\n",
    "LIMIT 5;\n",
    "\"\"\"\n",
    "\n",
    "# Execute the SQL query\n",
    "cursor.execute(sql)\n",
    "\n",
    "# Fetch all results from the executed SQL query\n",
    "results = cursor.fetchall()\n",
    "\n",
    "# Create a DataFrame from the fetched results\n",
    "df = pd.DataFrame(results, columns=['User', 'Average Score'])\n",
    "\n",
    "# Display the DataFrame\n",
    "print(df)\n"
   ]
  },
  {
   "cell_type": "markdown",
   "id": "879a9bfd-389a-4af2-baa3-c3d58cee8013",
   "metadata": {},
   "source": [
    "7 - What are the chances [2 marks]\n",
    "\n",
    "Implement a query that finds those comments whose length (in number of characters) is exactly the same as the number of comments on the post it was posted in. You should retrieve the following columns: `post_title`, `comment_body`, `num_comments` and `dif` (which should show the difference in characters between the length of the title and the number of comments).\n"
   ]
  },
  {
   "cell_type": "code",
   "execution_count": 24,
   "id": "b16dea5f-140f-4329-a070-b9b1cff1bf46",
   "metadata": {},
   "outputs": [
    {
     "name": "stdout",
     "output_type": "stream",
     "text": [
      "                                          Post Title Comment Body   \n",
      "0  [Race Thread] 2021 Tour de France - Stage 12 (...            W  \\\n",
      "\n",
      "   Number of Comments  Difference  \n",
      "0                1405       -1353  \n"
     ]
    }
   ],
   "source": [
    "# your code here\n",
    "sql = \"\"\"\n",
    "SELECT\n",
    "    P.title AS post_title,\n",
    "    C.body AS comment_body,\n",
    "    P.num_comments,\n",
    "    CHAR_LENGTH(P.title) - P.num_comments AS dif\n",
    "FROM\n",
    "    Posts P\n",
    "JOIN\n",
    "    Comments C ON P.id = C.post_id\n",
    "JOIN\n",
    "    (SELECT post_id, COUNT(*) AS num_comments FROM Comments GROUP BY post_id) AS PostCounts\n",
    "    ON P.id = PostCounts.post_id\n",
    "WHERE\n",
    "    CHAR_LENGTH(C.body) = PostCounts.num_comments;\n",
    "\"\"\"\n",
    "\n",
    "# Execute the SQL query\n",
    "cursor.execute(sql)\n",
    "\n",
    "# Fetch all results from the executed SQL query\n",
    "results = cursor.fetchall()\n",
    "\n",
    "# Create a DataFrame from the fetched results\n",
    "df = pd.DataFrame(results, columns=['Post Title', 'Comment Body', 'Number of Comments', 'Difference'])\n",
    "\n",
    "# Display the DataFrame\n",
    "print(df)"
   ]
  },
  {
   "cell_type": "markdown",
   "id": "5822dd71-4691-4832-b402-d7731bd769d8",
   "metadata": {},
   "source": [
    "8 - Top of the Tour. [2 marks]\n",
    "\n",
    "Write a query that retrieves only a ranked list of the `post_created` dates ordered from the post with the highest aggregated comment score to the post with the lowest aggregated comment score. Your query should return those days in a single-column table (column name `post_date`) in the format DD-MM.\n"
   ]
  },
  {
   "cell_type": "code",
   "execution_count": 25,
   "id": "9d6853c8-85e5-4ead-92c9-c2847e31eb88",
   "metadata": {},
   "outputs": [
    {
     "name": "stdout",
     "output_type": "stream",
     "text": [
      "   Post Date\n",
      "0      07-07\n",
      "1      14-07\n",
      "2      11-07\n",
      "3      03-07\n",
      "4      30-06\n",
      "5      26-06\n",
      "6      02-07\n",
      "7      29-06\n",
      "8      17-07\n",
      "9      04-07\n",
      "10     18-07\n",
      "11     09-07\n",
      "12     08-07\n",
      "13     06-07\n",
      "14     10-07\n",
      "15     27-06\n",
      "16     28-06\n",
      "17     13-07\n",
      "18     15-07\n",
      "19     01-07\n",
      "20     16-07\n"
     ]
    }
   ],
   "source": [
    "# your code here\n",
    "sql = \"\"\"\n",
    "SELECT\n",
    "    DATE_FORMAT(created, '%d-%m') AS post_date\n",
    "FROM\n",
    "    Posts\n",
    "GROUP BY\n",
    "    DATE_FORMAT(created, '%d-%m')\n",
    "ORDER BY\n",
    "    SUM(score) DESC;\n",
    "\"\"\"\n",
    "\n",
    "# Execute the SQL query\n",
    "cursor.execute(sql)\n",
    "\n",
    "# Fetch all results from the executed SQL query\n",
    "results = cursor.fetchall()\n",
    "\n",
    "# Create a DataFrame from the fetched results\n",
    "df = pd.DataFrame(results, columns=['Post Date'])\n",
    "\n",
    "# Display the DataFrame\n",
    "print(df)"
   ]
  },
  {
   "cell_type": "markdown",
   "id": "1e332de8-bd6b-4023-aee3-2553dfe3de0e",
   "metadata": {},
   "source": [
    "9 - Top 'yellow jersey'-mentioning users. [2 marks]\n",
    "\n",
    "Retrieve the top 3 users in terms of how often they have mentioned the expression yellow jersey' (i.e. the jersey worn by the rider that is currently in position 1 of the race) in their comment. Your query should return two columns: `user` and `total_count`. You will consider an occurrence of the word 'yellow jersey' only when it appears before and after a whitespace (i.e., `<space>yellow<space>jersey<space>`) and irrespective of case (both `<space>yellow<space>jersey<space>` and `<space>Yellow<space>Jersey<space>` would be valid hits).\n"
   ]
  },
  {
   "cell_type": "code",
   "execution_count": 26,
   "id": "4998d79b-1c90-4cea-8378-7ac02b8c378d",
   "metadata": {},
   "outputs": [
    {
     "name": "stdout",
     "output_type": "stream",
     "text": [
      "                 User  Total Count\n",
      "0  FasterThanFlourite            4\n",
      "1           anonymous            2\n",
      "2      fruitshortcake            2\n"
     ]
    }
   ],
   "source": [
    "# your code here\n",
    "sql = \"\"\"\n",
    "SELECT\n",
    "    username AS user,\n",
    "    COUNT(*) AS total_count\n",
    "FROM\n",
    "    Users\n",
    "JOIN\n",
    "    Comments ON Users.id = Comments.author_id\n",
    "WHERE\n",
    "    LOWER(body) LIKE '% yellow jersey %'\n",
    "GROUP BY\n",
    "    username\n",
    "ORDER BY\n",
    "    total_count DESC\n",
    "LIMIT 3;\n",
    "\"\"\"\n",
    "\n",
    "# Execute the SQL query\n",
    "cursor.execute(sql)\n",
    "\n",
    "# Fetch all results from the executed SQL query\n",
    "results = cursor.fetchall()\n",
    "\n",
    "# Create a DataFrame from the fetched results\n",
    "df = pd.DataFrame(results, columns=['User', 'Total Count'])\n",
    "\n",
    "# Display the DataFrame\n",
    "print(df)"
   ]
  },
  {
   "cell_type": "markdown",
   "id": "9f52b442-5d33-430b-adaa-e721ccf6d227",
   "metadata": {},
   "source": [
    "10 - Users with low karma for their posts. [2 marks]\n",
    "\n",
    "Retrieve the number of users with a combined karma (comment & post) that is lower than the lowest post score in our dataset. Your query should return only one result, under the column result.\n"
   ]
  },
  {
   "cell_type": "code",
   "execution_count": 27,
   "id": "ca8d702b-e9d4-49ba-9372-124751e9c1b5",
   "metadata": {},
   "outputs": [
    {
     "name": "stdout",
     "output_type": "stream",
     "text": [
      "Number of users: 31\n"
     ]
    }
   ],
   "source": [
    "# your code here\n",
    "sql = \"\"\"\n",
    "SELECT\n",
    "    COUNT(*) AS result\n",
    "FROM\n",
    "    Users\n",
    "WHERE\n",
    "    (Users.comment_karma + Users.post_karma) < (SELECT MIN(Posts.score) FROM Posts);\n",
    "\"\"\"\n",
    "\n",
    "# Execute the SQL query\n",
    "cursor.execute(sql)\n",
    "\n",
    "# Fetch the result\n",
    "result = cursor.fetchone()\n",
    "\n",
    "# Print the result\n",
    "print(\"Number of users:\", result[0])"
   ]
  }
 ],
 "metadata": {
  "kernelspec": {
   "display_name": "Python 3 (ipykernel)",
   "language": "python",
   "name": "python3"
  },
  "language_info": {
   "codemirror_mode": {
    "name": "ipython",
    "version": 3
   },
   "file_extension": ".py",
   "mimetype": "text/x-python",
   "name": "python",
   "nbconvert_exporter": "python",
   "pygments_lexer": "ipython3",
   "version": "3.11.2"
  }
 },
 "nbformat": 4,
 "nbformat_minor": 5
}
